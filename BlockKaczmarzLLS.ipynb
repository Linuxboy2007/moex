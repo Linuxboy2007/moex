{
  "nbformat": 4,
  "nbformat_minor": 0,
  "metadata": {
    "colab": {
      "provenance": [],
      "authorship_tag": "ABX9TyN6nj+5WrhnQzh975FoeWDB",
      "include_colab_link": true
    },
    "kernelspec": {
      "name": "python3",
      "display_name": "Python 3"
    },
    "language_info": {
      "name": "python"
    }
  },
  "cells": [
    {
      "cell_type": "markdown",
      "metadata": {
        "id": "view-in-github",
        "colab_type": "text"
      },
      "source": [
        "<a href=\"https://colab.research.google.com/github/Linuxboy2007/moex/blob/main/BlockKaczmarzLLS.ipynb\" target=\"_parent\"><img src=\"https://colab.research.google.com/assets/colab-badge.svg\" alt=\"Open In Colab\"/></a>"
      ]
    },
    {
      "cell_type": "code",
      "execution_count": 1,
      "metadata": {
        "id": "YkULFV-LHE_3"
      },
      "outputs": [],
      "source": [
        "import numpy as np\n",
        "from numpy import linalg as LA\n",
        "import time\n",
        "from scipy.linalg import null_space\n",
        "import matplotlib.pyplot as plt\n",
        "from matplotlib.ticker import MaxNLocator"
      ]
    },
    {
      "cell_type": "code",
      "source": [
        "def biunder(A, epsp):\n",
        "    m,n = A.shape\n",
        "    beta = 1.8/LA.norm(A,'fro')**2\n",
        "    Em = 2*np.eye(n)\n",
        "    X = beta*A\n",
        "    Xold = X\n",
        "    A = A.T\n",
        "    err = 1e+09;it = 0\n",
        "    while err > epsp:\n",
        "        X = Xold@(Em - A@Xold)\n",
        "        err = LA.norm(X - Xold,'fro')/LA.norm(Xold,'fro')\n",
        "        Xold = X\n",
        "        it = it + 1\n",
        "    return X.T, it"
      ],
      "metadata": {
        "id": "5-rWDdNYHPSV"
      },
      "execution_count": 2,
      "outputs": []
    },
    {
      "cell_type": "code",
      "source": [
        "def PIBR_compact( A,n, alpha, beta,bs):\n",
        "    Ae = alpha*np.eye(bs)\n",
        "    A1 = np.column_stack((Ae,A))\n",
        "    X = beta*np.row_stack((Ae,A.T))\n",
        "    Xold = X\n",
        "    En = 2*np.eye(bs)\n",
        "    err = 1e+10\n",
        "    it = 0\n",
        "    while err > 1e-07:\n",
        "        B =  np.matmul(A1,Xold)\n",
        "        B = En - B\n",
        "        X = np.matmul(Xold,B)\n",
        "        err = LA.norm(X - Xold,np.inf)/LA.norm(Xold,np.inf)\n",
        "        Xold = X\n",
        "        it = it + 1\n",
        "    return X, it"
      ],
      "metadata": {
        "id": "XEiQB9_0HQkr"
      },
      "execution_count": 140,
      "outputs": []
    },
    {
      "cell_type": "code",
      "source": [
        "def tsbk(A, f, bs, epsx, epsp, alpha):\n",
        "    reer = []\n",
        "    errb =[]\n",
        "    m, n = A.shape\n",
        "    ft = np.zeros(bs)\n",
        "    mt = m + n\n",
        "    theta = np.zeros((mt,2))\n",
        "    Nb = int(m/bs)\n",
        "    #lists for pseudoinverse\n",
        "    itp = np.zeros((1,Nb))\n",
        "    m1 = int(Nb*(bs+n))\n",
        "    i = np.arange(0,Nb)\n",
        "    p1 = bs*i; p2 = bs*(i+1)\n",
        "    p1ap = (bs+n)*i; p2ap = (bs+n)*i +(n+bs)\n",
        "    Ap = np.zeros((m1, bs))\n",
        "    Ap2,itp2 = biunder(A.T,epsp)\n",
        "    if alpha ==-1:\n",
        "        alpha = np.sqrt(n)/LA.norm(Ap2,'fro')\n",
        "    \n",
        "    it = 0\n",
        "    err = 1e+10\n",
        "    Ew = alpha*np.eye(bs)\n",
        "    for k in range(Nb):\n",
        "        beta = 1.6/(LA.norm(A[p1[k]:p2[k],:],'fro')**2+bs*alpha**2)\n",
        "        Ap[p1ap[k]:p2ap[k],:],itp[0,k] = PIBR_compact( A[p1[k]:p2[k],:], n, alpha, beta,bs)\n",
        "    \n",
        "    while err > epsx:\n",
        "        for j in range(Nb):\n",
        "            ft = f[p1[j]:p2[j],0] - (Ew.dot(theta[p1[j]:p2[j],0]) + A[p1[j]:p2[j],:].dot(theta[m:mt,0]))\n",
        "            theta[p1[j]:p2[j],0] = theta[p1[j]:p2[j],0] + np.matmul(Ap[p1ap[j]:p1ap[j]+bs,:],ft)\n",
        "            theta[m:mt,0] = theta[m:mt,0] + np.matmul(Ap[p1ap[j]+bs:p2ap[j],:],ft)\n",
        "        theta[0:m,0] = theta[0:m,0] - Ap2@(A.T@theta[0:m,0])\n",
        "        err = LA.norm(theta[:,1] - theta[:,0])/(1+LA.norm(theta[:,0]))\n",
        "        reer.append(err)\n",
        "        errb.append(LA.norm(theta[0:m,1])/alpha)\n",
        "        theta[:,1] = theta[:,0]\n",
        "        it = it + 1\n",
        "    \n",
        "    return theta[m:mt,1].reshape(n,1), it, itp, itp2, reer, errb"
      ],
      "metadata": {
        "id": "qDPUaHIxHT8c"
      },
      "execution_count": 141,
      "outputs": []
    },
    {
      "cell_type": "code",
      "source": [
        "def mpg1(p,a,b,m):\n",
        "    t = range(0,p)\n",
        "    x = np.linspace(a,b,m).reshape(m,1)\n",
        "    A = np.power(x,t)\n",
        "    return A,x"
      ],
      "metadata": {
        "id": "mDHkedkYOJXu"
      },
      "execution_count": 19,
      "outputs": []
    },
    {
      "cell_type": "code",
      "source": [
        "nx = 10\n",
        "x = np.linspace(-np.pi,np.pi,nx).T;\n",
        "theta = np.array([np.pi/2, 0.1, -0.2, 0.5, 0.7, 1, -1]).reshape(7,1)\n",
        "y = np.pi/2 + 0.1*np.cos(x)-0.2*np.sin(x)+ 0.5*np.cos(2*x)+0.7*np.sin(2*x)+np.cos(3*x)-np.sin(3*x);\n",
        "A = np.array([np.ones(nx), np.cos(x), np.sin(x), np.cos(2*x), np.sin(2*x), np.cos(3*x),np.sin(3*x)]).T\n",
        "\n",
        "r = null_space(A.T)\n",
        "sigma = 0.2\n",
        "yn =y + sigma*r[:,0]\n",
        "yn = yn.reshape(nx,1)"
      ],
      "metadata": {
        "id": "4LDvAFbdHcrF"
      },
      "execution_count": 175,
      "outputs": []
    },
    {
      "cell_type": "code",
      "source": [
        "xlls = LA.pinv(A)@yn\n",
        "errls = LA.norm(theta - xlls)/LA.norm(theta)\n",
        "print('SVD error %.4e' % errls)"
      ],
      "metadata": {
        "colab": {
          "base_uri": "https://localhost:8080/"
        },
        "id": "EP0zYfwNHhjn",
        "outputId": "e52f9a8c-6075-45f3-9834-b6373edc1004"
      },
      "execution_count": 176,
      "outputs": [
        {
          "output_type": "stream",
          "name": "stdout",
          "text": [
            "SVD error 3.4515e-16\n"
          ]
        }
      ]
    },
    {
      "cell_type": "code",
      "source": [
        "epsx = np.finfo(float).eps\n",
        "xk, it, itp, itp2, reer, errb = tsbk(A, yn, 2, epsx, 1e-06, 1)\n",
        "errxk = LA.norm(theta - xk)/LA.norm(theta)\n",
        "print('Число итераций алгоритма %d' % it)\n",
        "print('Среднее число итераций алгоритма БИ %d' % itp.mean())\n",
        "print('Число итераций алгоритма БИ для A.T %d' % itp2)\n",
        "print('BKAS error %.4e' % errxk)"
      ],
      "metadata": {
        "colab": {
          "base_uri": "https://localhost:8080/"
        },
        "id": "jW8L2vQWHxr7",
        "outputId": "eb16352a-5613-45dd-945e-c45ed934cf2e"
      },
      "execution_count": 178,
      "outputs": [
        {
          "output_type": "stream",
          "name": "stdout",
          "text": [
            "Число итераций алгоритма 71\n",
            "Среднее число итераций алгоритма БИ 6\n",
            "Число итераций алгоритма БИ для A.T 7\n",
            "BKAS error 1.9254e-16\n"
          ]
        }
      ]
    },
    {
      "cell_type": "code",
      "source": [
        "fig, ax1 = plt.subplots()\n",
        "plt.grid(True)\n",
        "ax1.plot(range(it),reer,'k.-')\n",
        "#ax1.plot(range(it),errb,'k.-')\n",
        "ax1.xaxis.set_major_locator(MaxNLocator(integer=True))\n",
        "plt.yscale('log')\n",
        "plt.ylabel('$\\\\mathrm{Err}$', rotation=0,labelpad=10)\n",
        "plt.xlabel('Число итераций', rotation=0,labelpad=0)\n",
        "plt.show()\n"
      ],
      "metadata": {
        "colab": {
          "base_uri": "https://localhost:8080/",
          "height": 444
        },
        "id": "R0_5UHwiH52r",
        "outputId": "2f3e8f26-2f41-4be2-82cb-ab8569da1aad"
      },
      "execution_count": 139,
      "outputs": [
        {
          "output_type": "display_data",
          "data": {
            "text/plain": [
              "<Figure size 640x480 with 1 Axes>"
            ],
            "image/png": "[encoded data removed]"
          },
          "metadata": {}
        }
      ]
    },
    {
      "cell_type": "code",
      "source": [
        "p = 6; m = 100\n",
        "A1,x1 = mpg1(p,0.1,1,m)\n",
        "theta1 = np.array(np.linspace(0.1,1,p)).reshape(p,1)"
      ],
      "metadata": {
        "id": "Nq3y0VV9OPgs"
      },
      "execution_count": 167,
      "outputs": []
    },
    {
      "cell_type": "code",
      "source": [
        "LA.cond(A1)"
      ],
      "metadata": {
        "colab": {
          "base_uri": "https://localhost:8080/"
        },
        "id": "wB_rAyKmOtdD",
        "outputId": "9968c1d6-705a-4d9e-f89a-ba42f28064d1"
      },
      "execution_count": 168,
      "outputs": [
        {
          "output_type": "execute_result",
          "data": {
            "text/plain": [
              "7659.164591729507"
            ]
          },
          "metadata": {},
          "execution_count": 168
        }
      ]
    },
    {
      "cell_type": "code",
      "source": [
        "r1= null_space(A1.T)\n",
        "f = A1@theta1\n",
        "fn = f + 0.001*r1[:,0]"
      ],
      "metadata": {
        "id": "gIzZ2qVZOYXc"
      },
      "execution_count": 169,
      "outputs": []
    },
    {
      "cell_type": "code",
      "source": [
        "xlls1 = LA.pinv(A1)@fn\n",
        "errls1 = LA.norm(theta1 - xlls1)/LA.norm(theta1)\n",
        "print('SVD error %.4e' % errls1)"
      ],
      "metadata": {
        "colab": {
          "base_uri": "https://localhost:8080/"
        },
        "id": "duEFafH6PXNz",
        "outputId": "050f4090-7e2d-430e-ac9c-00ecf7f3ed74"
      },
      "execution_count": 170,
      "outputs": [
        {
          "output_type": "stream",
          "name": "stdout",
          "text": [
            "SVD error 6.4793e-04\n"
          ]
        }
      ]
    },
    {
      "cell_type": "code",
      "source": [
        "epsx = np.finfo(float).eps\n",
        "bs = 20\n",
        "xk1, it1, itp1, itp21, reer1,berr1 = tsbk(A1, fn, bs, 1e-08, 1e-06, 1)\n",
        "errxk1 = LA.norm(theta1 - xk1)/LA.norm(theta1)\n",
        "print('Размер блока %d' % bs)\n",
        "print('Число блоков %d' % int(m/bs))\n",
        "print('Число итераций алгоритма %d' % it1)\n",
        "print('Среднее число итераций алгоритма БИ %d' % itp1.mean())\n",
        "print('Число итераций алгоритма БИ для A.T %d' % itp21)\n",
        "print('BKAS error %.4e' % errxk1)"
      ],
      "metadata": {
        "colab": {
          "base_uri": "https://localhost:8080/"
        },
        "id": "sbTyq6XzPd6R",
        "outputId": "4c861d49-e0b5-40a1-bc67-671f4bc8d0ed"
      },
      "execution_count": 174,
      "outputs": [
        {
          "output_type": "stream",
          "name": "stdout",
          "text": [
            "Размер блока 20\n",
            "Число блоков 5\n",
            "Число итераций алгоритма 45568\n",
            "Среднее число итераций алгоритма БИ 10\n",
            "Число итераций алгоритма БИ для A.T 30\n",
            "BKAS error 1.0300e-03\n"
          ]
        }
      ]
    }
  ]
}